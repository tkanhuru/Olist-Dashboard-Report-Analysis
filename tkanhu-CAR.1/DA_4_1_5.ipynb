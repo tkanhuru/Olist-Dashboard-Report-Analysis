{
  "nbformat": 4,
  "nbformat_minor": 0,
  "metadata": {
    "colab": {
      "name": "DA_4_1_5.ipynb",
      "provenance": [],
      "collapsed_sections": []
    },
    "kernelspec": {
      "name": "python3",
      "display_name": "Python 3"
    },
    "language_info": {
      "name": "python"
    }
  },
  "cells": [
    {
      "cell_type": "markdown",
      "source": [
        "# Module 4: Communicating Analysis Results\n",
        "## Sprint 1: Visualising Data using Data Studio\n",
        "## Part 5: Graded exercise\n",
        "\n",
        "Your colleague is very happy with the dashboard you provided him the previous week, but he has some remarks about the overall look of the dashboard. He saw that some metrics and dimensions were not very clear, also he did not like some of the graphs formatting. Furthermore, he saw some examples of DataStudio dashboards actually plotting data in the map. He thinks it is really cool and would really like to see something like that in your end result of the dashboard.\n",
        "\n",
        "You should make a copy of the final dashboard from the Hands On task to clean it up, make it more interactive and advanced. Feel free to work with anything from formatting to adding completely new graphs and insights. Maybe you could utilize some of the techniques you have learned in the previous sprints as well.\n",
        "\n",
        "As an alternative you can come up with a completely new dashboard if you wish. The only requirement is that you use the same [olist_db](https://console.cloud.google.com/bigquery?authuser=3&project=tc-da-1&ws=!1m5!1m4!4m3!1stc-da-1!2solist_db!3solist_customesr_dataset&j=bq:US:bquxjob_439ea020_17f990edf1c&page=queryresults) datasource to construct your dashboard. Once again, remember that we are giving you some freedom in your Graded Task, though we expect you to utilize tools you have learned as well as making sure that you follow guidelines you have learned in this sprint. Make sure you take into consideration the dashboard structure and ways to make sure the user understands the data you intend to be understood. For this you will have to come up with your own insights about data and make sure those insights tell a consistent and coherent story.\n",
        "\n",
        "- Write SQL queries to extract needed data, these queries should be well documented, with indentation and provided as custom queries in DataStudio dashboard.\n",
        "- Provide your analysis in DataStudio or other data visualization tool of your choice the main requirement being that you use olist_db as your data source.\n",
        "- You need to present at least one additional insight that either reinforces (or replaces the graphs in the original graph). Your audience is interested in business insights and your role is to identify and tell them a story via visuals.\n",
        "- Additionally to the dashboard you have to provide a 10 min presentation (up to 10 slides) which would be business focused and would present only the most interesting 3-5 insights.\n",
        "- See whether you can apply at least 2 techniques learned in this or previous sprints.\n",
        "- Explore the data. See whether there are interesting data points that can give more insights to your presentation than previously established in the Hands On task.\n",
        "- Provide analytical insights, what are the drawbacks of this analysis, what further analysis could you recommend?\n",
        "- Do not forget how you should structure your presentation which you learnt during the first sprint of the first module.\n",
        "\n",
        "*Tip: to make valuable business insights, it’s almost never enough to only look at the data. It is often very beneficial to do some additional research about the industry and the business as well.*\n",
        "\n",
        "## Evaluation criteria for Graded project submission:\n",
        "\n",
        "- SQL is nicely formatted and there are no logic errors in queries.\n",
        "- DataSources connected to the dashboard are well formatted, naming conventions are clear and calculated fields have relevant names\n",
        "- You have provided a dashboard which is user friendly and interactive enough to pull some more insights by the users themselves\n",
        "- You have followed analysis steps correctly and clearly communicated in your presentation what you were looking for with your analysis, results, and provided further recommendations.\n",
        "- You have understood various techniques to be used in DataStudio (or other tool) correctly and managed to improve the original dashboard / provide useful insights from your own dashboard\n",
        "- You have successfully used at least 2 techniques learnt previously.\n",
        "- Analysis, findings and main points clearly structured.\n",
        "\n",
        "*During a task review, you may get asked questions that test your understanding of covered topics.*\n",
        "\n",
        "**Sample questions:**\n",
        "- How does data blending in DataStudio work? What do you always have to have in mind? \n",
        "- How on a very general level should dashboards be structured? What information should be provided at the top of the dashboard vs information provided at the bottom?\n",
        "- Why is providing preattentive attributes important when constructing dashboards?\n",
        "- Can you think of situations where having a less interactive dashboard is more suitable than having a heavily customizable interactive dashboard?\n",
        "\n",
        "## Submission\n",
        "Upload all solution files for this graded task to your GitHub repository using the \"Add File\" function.\n",
        "\n",
        "## Accessing the next notebook:\n",
        "After you schedule your project reviews, you can already start working on the next part from the upcoming sprint. To access it, go to https://github.com/TuringCollegeSubmissions/DA.4.2.1. If you need access to additional parts of the next sprint, contact Giedrius Zebrauskas via Discord. Once the project review is completed, you will see this content in the Turing platform normally.\n",
        "\n"
      ],
      "metadata": {
        "id": "vENWQYS2Mtoe"
      }
    }
  ]
}